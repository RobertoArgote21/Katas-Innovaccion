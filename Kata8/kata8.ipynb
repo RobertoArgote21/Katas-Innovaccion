{
 "cells": [
  {
   "cell_type": "markdown",
   "source": [
    "# Kata 8"
   ],
   "metadata": {}
  },
  {
   "cell_type": "markdown",
   "source": [
    "## Ejercicio 1"
   ],
   "metadata": {}
  },
  {
   "cell_type": "code",
   "execution_count": 1,
   "source": [
    "# Crea un diccionario llamado planet con los datos propuestos\r\n",
    "planet = {\r\n",
    "    'name': 'Mars',\r\n",
    "    'moons': 2\r\n",
    "}"
   ],
   "outputs": [],
   "metadata": {}
  },
  {
   "cell_type": "code",
   "execution_count": 2,
   "source": [
    "# Muestra el nombre del planeta y el número de lunas que tiene.\r\n",
    "print(f'{planet[\"name\"]} has {planet[\"moons\"]} moons')"
   ],
   "outputs": [
    {
     "output_type": "stream",
     "name": "stdout",
     "text": [
      "Mars has 2 moons\n"
     ]
    }
   ],
   "metadata": {}
  },
  {
   "cell_type": "code",
   "execution_count": 3,
   "source": [
    "planet['circunferencia (km)'] = {\r\n",
    "    'polar': 6752,\r\n",
    "    'equatorial': 6792\r\n",
    "}"
   ],
   "outputs": [],
   "metadata": {}
  },
  {
   "cell_type": "code",
   "execution_count": 4,
   "source": [
    "# Imprime el nombre del planeta con su circunferencia polar.\r\n",
    "print(f'{planet[\"name\"]} has a polar circumference of {planet[\"circunferencia (km)\"][\"polar\"]}')"
   ],
   "outputs": [
    {
     "output_type": "stream",
     "name": "stdout",
     "text": [
      "Mars has a polar circunference of 6752\n"
     ]
    }
   ],
   "metadata": {}
  },
  {
   "cell_type": "markdown",
   "source": [
    "## Ejercicio 2"
   ],
   "metadata": {}
  },
  {
   "cell_type": "code",
   "execution_count": 5,
   "source": [
    "# Planets and moons\r\n",
    "\r\n",
    "planet_moons = {\r\n",
    "    'mercury': 0,\r\n",
    "    'venus': 0,\r\n",
    "    'earth': 1,\r\n",
    "    'mars': 2,\r\n",
    "    'jupiter': 79,\r\n",
    "    'saturn': 82,\r\n",
    "    'uranus': 27,\r\n",
    "    'neptune': 14,\r\n",
    "    'pluto': 5,\r\n",
    "    'haumea': 2,\r\n",
    "    'makemake': 1,\r\n",
    "    'eris': 1\r\n",
    "}"
   ],
   "outputs": [],
   "metadata": {}
  },
  {
   "cell_type": "code",
   "execution_count": 9,
   "source": [
    "# Añade el código para determinar el número de lunas.\r\n",
    "moons = planet_moons.values()\r\n",
    "planets = len(planet_moons.keys())\r\n"
   ],
   "outputs": [],
   "metadata": {}
  },
  {
   "cell_type": "code",
   "execution_count": 11,
   "source": [
    "# Agrega el código para contar el número de lunas. \r\n",
    "total_moons = 0\r\n",
    "for x in moons:\r\n",
    "    total_moons += x\r\n",
    "\r\n",
    "average = total_moons / planets\r\n",
    "\r\n",
    "print(average)"
   ],
   "outputs": [
    {
     "output_type": "stream",
     "name": "stdout",
     "text": [
      "17.833333333333332\n"
     ]
    }
   ],
   "metadata": {}
  }
 ],
 "metadata": {
  "orig_nbformat": 4,
  "language_info": {
   "name": "python",
   "version": "3.9.10",
   "mimetype": "text/x-python",
   "codemirror_mode": {
    "name": "ipython",
    "version": 3
   },
   "pygments_lexer": "ipython3",
   "nbconvert_exporter": "python",
   "file_extension": ".py"
  },
  "kernelspec": {
   "name": "python3",
   "display_name": "Python 3.9.10 64-bit (windows store)"
  },
  "interpreter": {
   "hash": "1cfe9ec98503dc4cec9d033d265a4756f024e511bdcd12d17ab8f604de5882a0"
  }
 },
 "nbformat": 4,
 "nbformat_minor": 2
}