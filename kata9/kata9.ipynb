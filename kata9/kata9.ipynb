{
 "cells": [
  {
   "cell_type": "markdown",
   "source": [
    "# Kata 9 "
   ],
   "metadata": {}
  },
  {
   "cell_type": "markdown",
   "source": [
    "## Ejercicio 1"
   ],
   "metadata": {}
  },
  {
   "cell_type": "code",
   "execution_count": 6,
   "source": [
    "# Función para leer 3 tanques de combustible y muestre el promedio\r\n",
    "def generar_reporte(tanque_1, tanque_2, tanque_3):\r\n",
    "    promedio = (tanque_1 + tanque_2 + tanque_3) / 3\r\n",
    "    return f\"\"\"Reporte:\r\n",
    "    Promedio: {promedio}%\r\n",
    "    Tanque uno: {tanque_1}%\r\n",
    "    Tanque dos: {tanque_2}%\r\n",
    "    Tanque tres: {tanque_3}% \r\n",
    "    \"\"\""
   ],
   "outputs": [],
   "metadata": {}
  },
  {
   "cell_type": "code",
   "execution_count": 9,
   "source": [
    "# Llamamos a la función que genera el reporte print(funcion(tanque1, tanque2, tanque3))\r\n",
    "print(generar_reporte(99,47,20))"
   ],
   "outputs": [
    {
     "output_type": "stream",
     "name": "stdout",
     "text": [
      "Reporte:\n",
      "    Promedio: 55.333333333333336%\n",
      "    Tanque uno: 99%\n",
      "    Tanque dos: 47%\n",
      "    Tanque tres: 20% \n",
      "    \n"
     ]
    }
   ],
   "metadata": {}
  },
  {
   "cell_type": "code",
   "execution_count": 12,
   "source": [
    "# Función promedio \r\n",
    "def obtiene_promedio(valores):\r\n",
    "    total = len(valores)\r\n",
    "    suma = sum(valores)\r\n",
    "    return suma/total\r\n",
    "\r\n",
    "print(obtiene_promedio([100,50,0]))"
   ],
   "outputs": [
    {
     "output_type": "stream",
     "name": "stdout",
     "text": [
      "50.0\n"
     ]
    }
   ],
   "metadata": {}
  },
  {
   "cell_type": "code",
   "execution_count": 14,
   "source": [
    "#Actualiza la funcion\r\n",
    "def generar_reporte(tanque_1, tanque_2, tanque_3):\r\n",
    "    return f\"\"\"Reporte:\r\n",
    "    Promedio: {obtiene_promedio([tanque_1, tanque_2, tanque_3])}%\r\n",
    "    Tanque uno: {tanque_1}%\r\n",
    "    Tanque dos: {tanque_2}%\r\n",
    "    Tanque tres: {tanque_3}% \r\n",
    "    \"\"\"\r\n",
    "\r\n",
    "print(generar_reporte(99,47,20))"
   ],
   "outputs": [
    {
     "output_type": "stream",
     "name": "stdout",
     "text": [
      "Reporte:\n",
      "    Promedio: 55.333333333333336%\n",
      "    Tanque uno: 99%\n",
      "    Tanque dos: 47%\n",
      "    Tanque tres: 20% \n",
      "    \n"
     ]
    }
   ],
   "metadata": {}
  },
  {
   "cell_type": "markdown",
   "source": [
    "## Ejercicio 2"
   ],
   "metadata": {}
  },
  {
   "cell_type": "code",
   "execution_count": 15,
   "source": [
    "# Función con un informe preciso de la misión. Considera hora de prelanzamiento, tiempo de vuelo, destino, tanque externo y tanque interno\r\n",
    "def reporte_mision(hora_prelanzamiento, tiempo_vuelo, destino, tanque_externo, tanque_interno):\r\n",
    "    return f\"\"\"\r\n",
    "    Mision a {destino}\r\n",
    "    Tiempo de viaje: {hora_prelanzamiento + tiempo_vuelo} minutos\r\n",
    "    Total de combustible: {tanque_externo + tanque_interno} galones\r\n",
    "    \"\"\"\r\n",
    "\r\n",
    "print(reporte_mision(14, 51, \"Luna\", 200000, 300000))"
   ],
   "outputs": [
    {
     "output_type": "stream",
     "name": "stdout",
     "text": [
      "\n",
      "    Mision a Luna\n",
      "    Tiempo de viaje: 65 minutos\n",
      "    Total de combustible: 500000 galones\n",
      "    \n"
     ]
    }
   ],
   "metadata": {}
  },
  {
   "cell_type": "code",
   "execution_count": 17,
   "source": [
    "#Escribe tu nueva función\r\n",
    "# Escribe tu nueva función\r\n",
    "\r\n",
    "def reporte_mision(destino, *minutos, **combustible):\r\n",
    "    main_report = f\"\"\"\r\n",
    "    Mission to {destino}\r\n",
    "    Total travel time: {sum(minutos)} minutes\r\n",
    "    Total fuel left: {sum(combustible.values())}\r\n",
    "    \"\"\"\r\n",
    "    for tank_name, gallons in combustible.items():\r\n",
    "        main_report += f\"{tank_name} tank --> {gallons} gallons left\\n\"\r\n",
    "    return main_report\r\n",
    "\r\n",
    "print(reporte_mision(\"Moon\", 9, 12, 56, main=400000, external=300000))"
   ],
   "outputs": [
    {
     "output_type": "stream",
     "name": "stdout",
     "text": [
      "\n",
      "    Mission to Moon\n",
      "    Total travel time: 77 minutes\n",
      "    Total fuel left: 700000\n",
      "    main tank --> 400000 gallons left\n",
      "external tank --> 300000 gallons left\n",
      "\n"
     ]
    }
   ],
   "metadata": {}
  }
 ],
 "metadata": {
  "orig_nbformat": 4,
  "language_info": {
   "name": "python",
   "version": "3.9.10",
   "mimetype": "text/x-python",
   "codemirror_mode": {
    "name": "ipython",
    "version": 3
   },
   "pygments_lexer": "ipython3",
   "nbconvert_exporter": "python",
   "file_extension": ".py"
  },
  "kernelspec": {
   "name": "python3",
   "display_name": "Python 3.9.10 64-bit (windows store)"
  },
  "interpreter": {
   "hash": "1cfe9ec98503dc4cec9d033d265a4756f024e511bdcd12d17ab8f604de5882a0"
  }
 },
 "nbformat": 4,
 "nbformat_minor": 2
}