{
 "cells": [
  {
   "cell_type": "markdown",
   "source": [
    "# Kata 3"
   ],
   "metadata": {}
  },
  {
   "cell_type": "markdown",
   "source": [
    "## Problema 1"
   ],
   "metadata": {}
  },
  {
   "cell_type": "code",
   "execution_count": 1,
   "source": [
    "velocidad_asteroide = 49\r\n",
    "\r\n",
    "if (velocidad_asteroide > 25):\r\n",
    "    print(\"¡Ciudaddo!, se acerca un asteroide a la tierra\")\r\n",
    "else:\r\n",
    "    print(\"No hay de qué preocuparse\")"
   ],
   "outputs": [
    {
     "output_type": "stream",
     "name": "stdout",
     "text": [
      "¡Ciudaddo!, se acerca un asteroide a la tierra\n"
     ]
    }
   ],
   "metadata": {}
  },
  {
   "cell_type": "markdown",
   "source": [
    "## Problema 2"
   ],
   "metadata": {}
  },
  {
   "cell_type": "code",
   "execution_count": 3,
   "source": [
    "velocidad_asteroide = 19\r\n",
    "\r\n",
    "if (velocidad_asteroide > 20):\r\n",
    "    print(\"Hay que buscar el asteroide en el cielo\")\r\n",
    "elif (velocidad_asteroide == 20):\r\n",
    "    print(\"Hay que buscar el asteroide en el cielo\")\r\n",
    "else:\r\n",
    "    print(\"Continua con tu día normal\")"
   ],
   "outputs": [
    {
     "output_type": "stream",
     "name": "stdout",
     "text": [
      "Continua con tu día normal\n"
     ]
    }
   ],
   "metadata": {}
  },
  {
   "cell_type": "markdown",
   "source": [
    "## Problema 3"
   ],
   "metadata": {}
  },
  {
   "cell_type": "code",
   "execution_count": null,
   "source": [
    "velocidad_asteroide = 25\r\n",
    "tamano_asteroide = 40\r\n",
    "\r\n",
    "velocidad_asteroide = 25\r\n",
    "tamano_asteroide = 40\r\n",
    "if velocidad_asteroide > 25 and tamano_asteroide > 25:\r\n",
    "    print(\"Ciudado, Un asteroide viene hacia la Tierra!\")\r\n",
    "elif velocidad_asteroide >= 20:\r\n",
    "    print(\"Hay que buscar una luz en el cielo\")\r\n",
    "elif tamano_asteroide < 25:\r\n",
    "    print(\"Sigue con tu día normal :)\")\r\n",
    "else:\r\n",
    "    print(\"Sigue con tu día normal :)\")"
   ],
   "outputs": [],
   "metadata": {}
  }
 ],
 "metadata": {
  "orig_nbformat": 4,
  "language_info": {
   "name": "python",
   "version": "3.9.10",
   "mimetype": "text/x-python",
   "codemirror_mode": {
    "name": "ipython",
    "version": 3
   },
   "pygments_lexer": "ipython3",
   "nbconvert_exporter": "python",
   "file_extension": ".py"
  },
  "kernelspec": {
   "name": "python3",
   "display_name": "Python 3.9.10 64-bit (windows store)"
  },
  "interpreter": {
   "hash": "1cfe9ec98503dc4cec9d033d265a4756f024e511bdcd12d17ab8f604de5882a0"
  }
 },
 "nbformat": 4,
 "nbformat_minor": 2
}