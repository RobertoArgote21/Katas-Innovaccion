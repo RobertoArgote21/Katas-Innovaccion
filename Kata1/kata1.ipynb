{
 "cells": [
  {
   "cell_type": "markdown",
   "source": [
    "## Kata 01"
   ],
   "metadata": {}
  },
  {
   "cell_type": "markdown",
   "source": [
    "Fecha"
   ],
   "metadata": {}
  },
  {
   "cell_type": "code",
   "execution_count": 2,
   "source": [
    "from datetime import date\r\n",
    "\r\n",
    "print(\"Today's date is: \" + str(date.today()))"
   ],
   "outputs": [
    {
     "output_type": "stream",
     "name": "stdout",
     "text": [
      "Today's date is: 2022-02-09\n"
     ]
    }
   ],
   "metadata": {}
  },
  {
   "cell_type": "markdown",
   "source": [
    "Parsec a años luz"
   ],
   "metadata": {}
  },
  {
   "cell_type": "code",
   "execution_count": 5,
   "source": [
    "parsec = 11\r\n",
    "\r\n",
    "lightyears = parsec * 3.26156\r\n",
    "\r\n",
    "print(str(parsec) + \" parsec, is \" + str(lightyears) + \" lightyears\")"
   ],
   "outputs": [
    {
     "output_type": "stream",
     "name": "stdout",
     "text": [
      "11 parsec, is 35.877159999999996 lightyears\n"
     ]
    }
   ],
   "metadata": {}
  }
 ],
 "metadata": {
  "orig_nbformat": 4,
  "language_info": {
   "name": "python",
   "version": "3.9.10",
   "mimetype": "text/x-python",
   "codemirror_mode": {
    "name": "ipython",
    "version": 3
   },
   "pygments_lexer": "ipython3",
   "nbconvert_exporter": "python",
   "file_extension": ".py"
  },
  "kernelspec": {
   "name": "python3",
   "display_name": "Python 3.9.10 64-bit (windows store)"
  },
  "interpreter": {
   "hash": "1cfe9ec98503dc4cec9d033d265a4756f024e511bdcd12d17ab8f604de5882a0"
  }
 },
 "nbformat": 4,
 "nbformat_minor": 2
}