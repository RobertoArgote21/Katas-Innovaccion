{
 "cells": [
  {
   "cell_type": "markdown",
   "source": [
    "# Kata 5"
   ],
   "metadata": {}
  },
  {
   "cell_type": "markdown",
   "source": [
    "## Ejercicio 1 Utilizar operadores aritméticos"
   ],
   "metadata": {}
  },
  {
   "cell_type": "code",
   "execution_count": 1,
   "source": [
    "# Crear variables para almacenar las dos distancias\r\n",
    "# ¡Asegúrate de quitar las comas!\r\n",
    "tierra = 149597870\r\n",
    "jupiter = 778547200\r\n"
   ],
   "outputs": [],
   "metadata": {}
  },
  {
   "cell_type": "code",
   "execution_count": 2,
   "source": [
    "# Calcular la distancia entre planetas\r\n",
    "distancia_km = jupiter - tierra\r\n",
    "distancia_mi = distancia_km * 0.621\r\n",
    "print(distancia_km)\r\n",
    "print(distancia_mi)"
   ],
   "outputs": [
    {
     "output_type": "stream",
     "name": "stdout",
     "text": [
      "628949330\n",
      "390577533.93\n"
     ]
    }
   ],
   "metadata": {}
  },
  {
   "cell_type": "markdown",
   "source": [
    "## Ejercicio 2: convierte cadenas en números y usa valores absolutos"
   ],
   "metadata": {}
  },
  {
   "cell_type": "code",
   "execution_count": 5,
   "source": [
    "# Almacenar las entradas del usuario\r\n",
    "#Pista: variable = input(\"¿Cuál es tu nombre?\")\r\n",
    "planeta_uno = input(\"Ingresa la distancia del Sol al planeta 1 en km: \")\r\n",
    "planeta_dos = input(\"Ingresa la distancia del Sol al planeta 2 en km: \")"
   ],
   "outputs": [],
   "metadata": {}
  },
  {
   "cell_type": "code",
   "execution_count": 6,
   "source": [
    "# Convierte las cadenas de ambos planetas a números enteros\r\n",
    "planeta_uno = int(planeta_uno)\r\n",
    "planeta_dos = int(planeta_dos)"
   ],
   "outputs": [],
   "metadata": {}
  },
  {
   "cell_type": "code",
   "execution_count": 7,
   "source": [
    "# Realizar el cálculo y determinar el valor absoluto\r\n",
    "distancia_km = abs(planeta_uno - planeta_dos)\r\n",
    "print(distancia_km)\r\n",
    "# Convertir de KM a Millas\r\n",
    "distancia_mi = distancia_mi * 0.621\r\n",
    "print(distancia_mi)"
   ],
   "outputs": [
    {
     "output_type": "stream",
     "name": "stdout",
     "text": [
      "4437200000\n",
      "242548648.57053\n"
     ]
    }
   ],
   "metadata": {}
  }
 ],
 "metadata": {
  "orig_nbformat": 4,
  "language_info": {
   "name": "python",
   "version": "3.9.10",
   "mimetype": "text/x-python",
   "codemirror_mode": {
    "name": "ipython",
    "version": 3
   },
   "pygments_lexer": "ipython3",
   "nbconvert_exporter": "python",
   "file_extension": ".py"
  },
  "kernelspec": {
   "name": "python3",
   "display_name": "Python 3.9.10 64-bit (windows store)"
  },
  "interpreter": {
   "hash": "1cfe9ec98503dc4cec9d033d265a4756f024e511bdcd12d17ab8f604de5882a0"
  }
 },
 "nbformat": 4,
 "nbformat_minor": 2
}